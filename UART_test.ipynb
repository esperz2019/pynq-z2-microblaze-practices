{
 "cells": [
  {
   "cell_type": "code",
   "execution_count": 1,
   "id": "f0f766fc",
   "metadata": {},
   "outputs": [
    {
     "data": {
      "application/javascript": [
       "\n",
       "try {\n",
       "require(['notebook/js/codecell'], function(codecell) {\n",
       "  codecell.CodeCell.options_default.highlight_modes[\n",
       "      'magic_text/x-csrc'] = {'reg':[/^%%microblaze/]};\n",
       "  Jupyter.notebook.events.one('kernel_ready.Kernel', function(){\n",
       "      Jupyter.notebook.get_cells().map(function(cell){\n",
       "          if (cell.cell_type == 'code'){ cell.auto_highlight(); } }) ;\n",
       "  });\n",
       "});\n",
       "} catch (e) {};\n"
      ]
     },
     "metadata": {},
     "output_type": "display_data"
    },
    {
     "data": {
      "application/javascript": [
       "\n",
       "try {\n",
       "require(['notebook/js/codecell'], function(codecell) {\n",
       "  codecell.CodeCell.options_default.highlight_modes[\n",
       "      'magic_text/x-csrc'] = {'reg':[/^%%pybind11/]};\n",
       "  Jupyter.notebook.events.one('kernel_ready.Kernel', function(){\n",
       "      Jupyter.notebook.get_cells().map(function(cell){\n",
       "          if (cell.cell_type == 'code'){ cell.auto_highlight(); } }) ;\n",
       "  });\n",
       "});\n",
       "} catch (e) {};\n"
      ]
     },
     "metadata": {},
     "output_type": "display_data"
    }
   ],
   "source": [
    "from pynq.overlays.base import BaseOverlay\n",
    "\n",
    "base = BaseOverlay(\"base.bit\")\n",
    "base.select_rpi()"
   ]
  },
  {
   "cell_type": "code",
   "execution_count": 2,
   "id": "25c60a82",
   "metadata": {},
   "outputs": [],
   "source": [
    "%%microblaze base.RPI\n",
    "\n",
    "#include \"uart.h\"\n",
    "\n",
    "uart device;\n",
    "\n",
    "void uart_init()\n",
    "{\n",
    "    // refer to PYNQ document, use the GPIO-index of corresponding rpi uart pins\n",
    "    device = uart_open(14, 15);\n",
    "}\n",
    "\n",
    "void read(unsigned char* buf, unsigned int sz)\n",
    "{\n",
    "    uart_read(device, buf, sz);\n",
    "}\n",
    "\n",
    "void write(unsigned char* buf, unsigned int sz)\n",
    "{\n",
    "    uart_write(device, buf, sz);\n",
    "}"
   ]
  },
  {
   "cell_type": "code",
   "execution_count": 3,
   "id": "807336e7",
   "metadata": {},
   "outputs": [],
   "source": [
    "# note that baud rate is fixed to 9600\n",
    "# and \"uart.h\" does not provide any re-configuration methods\n",
    "uart_init()"
   ]
  },
  {
   "cell_type": "code",
   "execution_count": 21,
   "id": "00873415",
   "metadata": {},
   "outputs": [],
   "source": [
    "data = list(map(lambda x: ord(x), \"114514\"))\n",
    "write(data, 6)"
   ]
  },
  {
   "cell_type": "code",
   "execution_count": 22,
   "id": "88af90bc",
   "metadata": {},
   "outputs": [
    {
     "data": {
      "text/plain": [
       "['1', '9', '1', '9', '8', '1', '0', '\\x00', '\\x00', '\\x00']"
      ]
     },
     "execution_count": 22,
     "metadata": {},
     "output_type": "execute_result"
    }
   ],
   "source": [
    "recv = [0] * 10\n",
    "read(recv, 10)\n",
    "list(map(lambda x: chr(x), recv))"
   ]
  },
  {
   "cell_type": "code",
   "execution_count": null,
   "id": "17c5c6cc",
   "metadata": {},
   "outputs": [],
   "source": []
  }
 ],
 "metadata": {
  "kernelspec": {
   "display_name": "Python 3",
   "language": "python",
   "name": "python3"
  },
  "language_info": {
   "codemirror_mode": {
    "name": "ipython",
    "version": 3
   },
   "file_extension": ".py",
   "mimetype": "text/x-python",
   "name": "python",
   "nbconvert_exporter": "python",
   "pygments_lexer": "ipython3",
   "version": "3.8.2"
  }
 },
 "nbformat": 4,
 "nbformat_minor": 5
}
